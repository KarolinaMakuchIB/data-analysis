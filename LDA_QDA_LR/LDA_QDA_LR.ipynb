{
  "nbformat": 4,
  "nbformat_minor": 0,
  "metadata": {
    "colab": {
      "provenance": []
    },
    "kernelspec": {
      "name": "python3",
      "display_name": "Python 3"
    }
  },
  "cells": [
    {
      "cell_type": "markdown",
      "source": [
        "# LDA, QDA and LR analysis"
      ],
      "metadata": {
        "id": "LUPdcpEdrYq1"
      }
    },
    {
      "cell_type": "markdown",
      "source": [
        "In this project I use two databases (urine.csv and iris.csv) to conduct Linear Discriminant, Quadratic Discriminant and Linear Regresion analysis."
      ],
      "metadata": {
        "id": "acNelN2Tus8r"
      }
    },
    {
      "cell_type": "code",
      "metadata": {
        "id": "T6cDp-BbMlzx",
        "colab": {
          "base_uri": "https://localhost:8080/",
          "height": 887
        },
        "outputId": "480e5ea4-ac1d-4292-bd18-c018ac685ff0"
      },
      "source": [
        "%matplotlib inline\n",
        "\n",
        "import numpy as np\n",
        "import pandas as pd\n",
        "import matplotlib.pyplot as plt\n",
        "from sklearn.discriminant_analysis import LinearDiscriminantAnalysis , QuadraticDiscriminantAnalysis\n",
        "from sklearn.metrics import accuracy_score, precision_score, recall_score, f1_score\n",
        "from sklearn.metrics import confusion_matrix, classification_report,ConfusionMatrixDisplay\n",
        "\n",
        "plt.close('all')\n",
        "df = pd.read_csv(\"urine.csv\")\n",
        "print(\"Urine.csv head\\n\", df.head())\n",
        "\n",
        "X = df.values[:, 2:]\n",
        "y = df.values[:, 1]\n",
        "\n",
        "#\tClassification algorithm QDA\n",
        "da = QuadraticDiscriminantAnalysis()\n",
        "da.fit(X, y)\n",
        "y_pred = da.predict(X) # prediction of the value of the dependent variable\n",
        "\n",
        "#\tCalculating model evaluation factors\n",
        "print('\\nAccuracy:', accuracy_score(y, y_pred))\n",
        "print('Precision:', precision_score(y, y_pred))\n",
        "print('Recall:', recall_score(y, y_pred))\n",
        "print('F1:', f1_score(y, y_pred), '\\n')\n",
        "\n",
        "#\tModel evaluation report\n",
        "labels = np.unique(y)\n",
        "print(classification_report(y, y_pred, labels=labels))\n",
        "\n",
        "#\tComputing confusion matrix\n",
        "\n",
        "print('\\nConfusion matrix')\n",
        "\n",
        "cm = confusion_matrix(y, y_pred)\n",
        "disp = ConfusionMatrixDisplay(confusion_matrix=cm)\n",
        "disp.plot()\n",
        "plt.show()\n"
      ],
      "execution_count": 21,
      "outputs": [
        {
          "output_type": "stream",
          "name": "stdout",
          "text": [
            "Urine.csv head\n",
            "    id  r  gravity    ph  osmo  cond  urea  calc\n",
            "0   1  0    1.021  4.91   725  20.9   443  2.45\n",
            "1   2  0    1.017  5.74   577  20.0   296  4.49\n",
            "2   3  0    1.008  7.20   321  14.9   101  2.36\n",
            "3   4  0    1.011  5.51   408  12.6   224  2.15\n",
            "4   5  0    1.005  6.52   187   7.5    91  1.16\n",
            "\n",
            "Accuracy: 0.8354430379746836\n",
            "Precision: 0.9565217391304348\n",
            "Recall: 0.6470588235294118\n",
            "F1: 0.7719298245614036 \n",
            "\n",
            "              precision    recall  f1-score   support\n",
            "\n",
            "         0.0       0.79      0.98      0.87        45\n",
            "         1.0       0.96      0.65      0.77        34\n",
            "\n",
            "    accuracy                           0.84        79\n",
            "   macro avg       0.87      0.81      0.82        79\n",
            "weighted avg       0.86      0.84      0.83        79\n",
            "\n",
            "\n",
            "Confusion matrix\n"
          ]
        },
        {
          "output_type": "display_data",
          "data": {
            "text/plain": [
              "<Figure size 640x480 with 2 Axes>"
            ],
            "image/png": "[encoded data removed]"
          },
          "metadata": {}
        }
      ]
    },
    {
      "cell_type": "code",
      "metadata": {
        "id": "OOj_bubFASsx",
        "outputId": "1863e042-78b0-4940-e3e2-9a51f4d69cc0",
        "colab": {
          "base_uri": "https://localhost:8080/",
          "height": 814
        }
      },
      "source": [
        "import pandas as pd\n",
        "import matplotlib.pyplot as plt\n",
        "from sklearn.discriminant_analysis import QuadraticDiscriminantAnalysis\n",
        "from sklearn.metrics import accuracy_score\n",
        "from sklearn.metrics import confusion_matrix, classification_report\n",
        "from sklearn.model_selection import train_test_split\n",
        "\n",
        "df = pd.read_csv('https://raw.githubusercontent.com/mwaskom/seaborn-data/master/iris.csv')\n",
        "print(\"iris.csv head\\n\", df.head())\n",
        "\n",
        "X = df.values[:, 0:3]\n",
        "y = df.values[:, 4]\n",
        "\n",
        "X_train, X_test, y_train, y_test = train_test_split(X, y, test_size= 0.2, random_state=0)\n",
        "from sklearn.linear_model import LogisticRegression\n",
        "lr = LogisticRegression(tol=0.001, max_iter=200)\n",
        "lr.fit(X_train, y_train)\n",
        "y_pred = lr.predict(X_test)\n",
        "print('LR Accuracy (test):', accuracy_score(y_test, y_pred))\n",
        "\n",
        "da = QuadraticDiscriminantAnalysis()\n",
        "da.fit(X_train, y_train)\n",
        "\n",
        "y_pred = da.predict(X_test)\n",
        "\n",
        "print('QDA Accuracy (test):', accuracy_score(y_test, y_pred))\n",
        "\n",
        "y_train_pred = da.predict(X_train)\n",
        "\n",
        "print('Accuracy (train):', accuracy_score(y_train, y_train_pred))\n",
        "\n",
        "\n",
        "labels = np.unique(y)\n",
        "\n",
        "print(classification_report(y_test, y_pred, labels=labels))\n",
        "\n",
        "labels = np.unique(y)\n",
        "\n",
        "cm = confusion_matrix(y_test, y_pred)\n",
        "\n",
        "#print(pd.DataFrame(cm, index=labels, columns=labels))\n",
        "disp = ConfusionMatrixDisplay(confusion_matrix=cm)\n",
        "disp.plot()\n",
        "plt.show()"
      ],
      "execution_count": 25,
      "outputs": [
        {
          "output_type": "stream",
          "name": "stdout",
          "text": [
            "iris.csv head\n",
            "    sepal_length  sepal_width  petal_length  petal_width species\n",
            "0           5.1          3.5           1.4          0.2  setosa\n",
            "1           4.9          3.0           1.4          0.2  setosa\n",
            "2           4.7          3.2           1.3          0.2  setosa\n",
            "3           4.6          3.1           1.5          0.2  setosa\n",
            "4           5.0          3.6           1.4          0.2  setosa\n",
            "LR Accuracy (test): 0.9666666666666667\n",
            "QDA Accuracy (test): 0.9666666666666667\n",
            "Accuracy (train): 0.9583333333333334\n",
            "              precision    recall  f1-score   support\n",
            "\n",
            "      setosa       1.00      1.00      1.00        11\n",
            "  versicolor       0.93      1.00      0.96        13\n",
            "   virginica       1.00      0.83      0.91         6\n",
            "\n",
            "    accuracy                           0.97        30\n",
            "   macro avg       0.98      0.94      0.96        30\n",
            "weighted avg       0.97      0.97      0.97        30\n",
            "\n"
          ]
        },
        {
          "output_type": "display_data",
          "data": {
            "text/plain": [
              "<Figure size 640x480 with 2 Axes>"
            ],
            "image/png": "[encoded data removed]"
          },
          "metadata": {}
        }
      ]
    },
    {
      "cell_type": "code",
      "metadata": {
        "id": "kY2Vc189adID",
        "outputId": "08d7424a-1da5-4193-8054-c0ae0545aa5b",
        "colab": {
          "base_uri": "https://localhost:8080/"
        }
      },
      "source": [
        "import pandas as pd\n",
        "import matplotlib.pyplot as plt\n",
        "from sklearn.discriminant_analysis import QuadraticDiscriminantAnalysis\n",
        "from sklearn.metrics import accuracy_score, precision_score, recall_score, f1_score\n",
        "from sklearn.model_selection import train_test_split, cross_val_score\n",
        "\n",
        "df = pd.read_csv('https://raw.githubusercontent.com/mwaskom/seaborn-data/master/iris.csv')\n",
        "\n",
        "X = df.values[:, 0:3]\n",
        "y = df.values[:, 4]\n",
        "\n",
        "da = QuadraticDiscriminantAnalysis()\n",
        "\n",
        "print('Cross-validation')\n",
        "scores = cross_val_score(da, X, y, cv=5)\n",
        "\n",
        "print('Accuracy: ',scores)\n",
        "print('Accuracy (mean): ', scores.mean())\n",
        "print('Accuracy (std): ', scores.std())"
      ],
      "execution_count": 7,
      "outputs": [
        {
          "output_type": "stream",
          "name": "stdout",
          "text": [
            "Cross-validation\n",
            "Accuracy:  [1.         1.         0.9        0.93333333 0.96666667]\n",
            "Accuracy (mean):  0.96\n",
            "Accuracy (std):  0.038873012632301994\n"
          ]
        }
      ]
    }
  ]
}